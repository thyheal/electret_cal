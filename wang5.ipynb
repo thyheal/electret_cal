{
 "cells": [
  {
   "cell_type": "code",
   "execution_count": 1,
   "metadata": {},
   "outputs": [],
   "source": [
    "# 导入必要的库\n",
    "import sys\n",
    "import os\n",
    "import pandas as pd\n",
    "import numpy as np\n",
    "from rdkit import Chem\n",
    "from pathlib import Path\n",
    "\n",
    "# 添加项目根目录到系统路径\n",
    "project_root = Path().absolute().parent\n",
    "sys.path.append(str(project_root))\n",
    "\n",
    "# 导入项目相关模块\n",
    "from core.molecule_processor import MoleculeProcessor\n",
    "from core.gaussian_calculator import GaussianCalculator\n",
    "from visualization.plot_manager import PlotManager\n",
    "\n",
    "# some calculations for wang's paper\n",
    "base_list = [\n",
    "'C(F)(F)(F)C(F)(F)C(F)(F)C(F)(F)(OC(F)(F)(F))',\n",
    "'C1(=O)N(CC=C)C2C(N(CC=C)C(=O)N2(CC=C))N1(CC=C)',\n",
    "'C1(=O)N(CC=C)C(=O)N(CC=C)C(=O)N1(CC=C)',\n",
    "'C1(=O)N(CC=C)C(=O)N(CC=C)C(=O)N1(C)',\n",
    "'C1(=O)N(CC=C)C(=O)N(CC=C)C(=O)N1(CCN2C(=O)N(CC=C)C(=O)N(CC=C)C2(=O))',\n",
    "]\n",
    "name_list = ['FFKM','TAG','TAIC','LDAI1C','D2D']\n",
    "set_name = 'wang5'\n",
    "iteration = 3\n",
    "calculator_params = {\n",
    "    'parent_dir': set_name,\n",
    "    'method': 'CAM-B3LYP',  # DFT泛函\n",
    "    'basis': '6-31G(d,p)',  # 基组\n",
    "    'opt': False,  # 进行结构优化\n",
    "    'dispersion': False,  # 包含色散校正\n",
    "    'polar': False,  # 不计算极化率\n",
    "    'volume': False,  # 不计算体积\n",
    "    'pcm': True,  # 不使用PCM溶剂化模型\n",
    "    'eps': 4.9,  # PCM模型的介电常数\n",
    "    'wfn': True,  # 输出波函数文件\n",
    "    'debug': True  # 非调试模式\n",
    "}\n",
    "\n"
   ]
  },
  {
   "cell_type": "code",
   "execution_count": 4,
   "metadata": {},
   "outputs": [],
   "source": [
    "# 使用PlotManager绘制分子结构\n",
    "PlotManager.plot_molecules(\n",
    "    smiles_list=base_list,\n",
    "    name_list=name_list,\n",
    "    parent_dir=set_name,\n",
    "    save_path='molecular_structures.pdf',\n",
    "    cols=5,  # 每行显示4个分子\n",
    "    with_timestamp=False\n",
    ")\n",
    "# FFKM分子构建和交联反应参数\n",
    "direction = 'L'\n",
    "m = 1\n",
    "n = 0\n",
    "c = 3\n",
    "\n",
    "# 进行FFKM分子构建和交联反应\n",
    "FFKM_list = []\n",
    "for base_mol in base_list:\n",
    "    # 构建FFKM分子\n",
    "    ffkm, connection_point = MoleculeProcessor.build_ffkm(\n",
    "        m=m,\n",
    "        n=n,\n",
    "        c=c,\n",
    "        connection_direction=direction\n",
    "    )\n",
    "    \n",
    "    # 模拟交联反应\n",
    "    crossed_mol = MoleculeProcessor.simulate_crosslink_reaction(\n",
    "        base=base_mol,\n",
    "        ffkm=ffkm,\n",
    "        connection_point=connection_point\n",
    "    )\n",
    "    \n",
    "    FFKM_list.append(crossed_mol)\n",
    "\n",
    "# 绘制交联反应后的分子结构\n",
    "PlotManager.plot_molecules(\n",
    "    smiles_list=FFKM_list,\n",
    "    name_list=name_list,\n",
    "    save_path='crosslinked_molecules.pdf',\n",
    "    parent_dir=set_name,\n",
    "    cols=5,  # 每行显示4个分子\n",
    "    with_timestamp=False\n",
    ")\n"
   ]
  },
  {
   "cell_type": "code",
   "execution_count": 6,
   "metadata": {},
   "outputs": [
    {
     "name": "stdout",
     "output_type": "stream",
     "text": [
      "尝试生成 TAG 第 1 个构象时失败: XYZ文件生成失败: Bad Conformer Id\n",
      "尝试生成 TAG 第 3 个构象时失败: XYZ文件生成失败: Bad Conformer Id\n"
     ]
    }
   ],
   "source": [
    "# ... earlier code remains the same ...\n",
    "\n",
    "# 为每个FFKM分子生成多个xyz文件\n",
    "for i, (mol_smiles, mol_name) in enumerate(zip(FFKM_list, name_list)):\n",
    "    success_count = 0\n",
    "    attempt = 0\n",
    "    max_attempts = 20  # 最大尝试次数，防止无限循环\n",
    "    \n",
    "    while success_count < iteration and attempt < max_attempts:\n",
    "        try:\n",
    "            current_seed = 42 + attempt\n",
    "            \n",
    "            # 修改文件命名格式，使用 init 作为后缀\n",
    "            xyz_filename = f\"{mol_name}{success_count}_init.xyz\"\n",
    "            \n",
    "            MoleculeProcessor.smile2xyz(\n",
    "                xyz_name=xyz_filename,\n",
    "                smile=mol_smiles,\n",
    "                randomSeed=current_seed,\n",
    "                parent_dir=set_name\n",
    "            )\n",
    "            \n",
    "            success_count += 1\n",
    "            # print(f\"成功生成 {mol_name} 的第 {success_count} 个初始构象\")\n",
    "            \n",
    "        except Exception as e:\n",
    "            print(f\"尝试生成 {mol_name} 第 {success_count + 1} 个构象时失败: {e}\")\n",
    "        \n",
    "        attempt += 1\n",
    "    \n",
    "    if success_count < iteration:\n",
    "        print(f\"警告: {mol_name} 只成功生成了 {success_count} 个构象\")"
   ]
  },
  {
   "cell_type": "code",
   "execution_count": null,
   "metadata": {},
   "outputs": [],
   "source": [
    "# 为每个分子准备高斯计算文件\n",
    "for name in name_list:\n",
    "    try:\n",
    "        # 创建分子目录\n",
    "        mol_dir = Path('examples') / name\n",
    "        mol_dir.mkdir(parents=True, exist_ok=True)\n",
    "        \n",
    "        # 为每个构象准备2种电荷态的计算文件\n",
    "        for conf_id in range(iteration):\n",
    "            xyz_file = f\"{name}{conf_id}_init.xyz\"\n",
    "            \n",
    "            # 准备中性态计算文件\n",
    "            neutral_calc = GaussianCalculator(**calculator_params, charge='neu')\n",
    "            neutral_calc._prepare_calculation(xyz_file)\n",
    "            neutral_calc._generate_input_file()\n",
    "            neutral_calc._generate_shell_script()\n",
    "            neutral_calc._submit_job()\n",
    "            \n",
    "            \n",
    "            # 准备阳离子态计算文件（用于IP计算）\n",
    "            cation_calc = GaussianCalculator(**calculator_params, charge='pos')\n",
    "            cation_calc._prepare_calculation(xyz_file)\n",
    "            cation_calc._generate_input_file()\n",
    "            cation_calc._generate_shell_script()\n",
    "            cation_calc._submit_job()\n",
    "            \n",
    "        print(f\"成功为{name}准备所有计算文件\")\n",
    "        \n",
    "    except Exception as e:\n",
    "        print(f\"处理{name}时出错: {str(e)}\")"
   ]
  },
  {
   "cell_type": "code",
   "execution_count": 2,
   "metadata": {},
   "outputs": [
    {
     "name": "stdout",
     "output_type": "stream",
     "text": [
      "正在计算IP值...\n"
     ]
    },
    {
     "name": "stderr",
     "output_type": "stream",
     "text": [
      "100%|██████████| 5/5 [00:00<00:00, 246.48it/s]\n"
     ]
    },
    {
     "name": "stdout",
     "output_type": "stream",
     "text": [
      "Error: [Errno 2] No such file or directory: 'wang5/TAG0/TAG0_neu.log'\n",
      "abnormal\n",
      "Error: [Errno 2] No such file or directory: 'wang5/TAIC0/TAIC0_neu.log'\n",
      "abnormal\n",
      "Error: [Errno 2] No such file or directory: 'wang5/LDAI1C0/LDAI1C0_neu.log'\n",
      "abnormal\n",
      "Error: [Errno 2] No such file or directory: 'wang5/D2D0/D2D0_neu.log'\n",
      "abnormal\n"
     ]
    },
    {
     "name": "stderr",
     "output_type": "stream",
     "text": [
      "100%|██████████| 5/5 [00:00<00:00, 322.52it/s]\n"
     ]
    },
    {
     "name": "stdout",
     "output_type": "stream",
     "text": [
      "Error: [Errno 2] No such file or directory: 'wang5/TAG1/TAG1_neu.log'\n",
      "abnormal\n",
      "Error: [Errno 2] No such file or directory: 'wang5/TAIC1/TAIC1_neu.log'\n",
      "abnormal\n",
      "Error: [Errno 2] No such file or directory: 'wang5/LDAI1C1/LDAI1C1_neu.log'\n",
      "abnormal\n",
      "Error: [Errno 2] No such file or directory: 'wang5/D2D1/D2D1_neu.log'\n",
      "abnormal\n"
     ]
    },
    {
     "name": "stderr",
     "output_type": "stream",
     "text": [
      "100%|██████████| 5/5 [00:00<00:00, 7366.18it/s]"
     ]
    },
    {
     "name": "stdout",
     "output_type": "stream",
     "text": [
      "Error: [Errno 2] No such file or directory: 'wang5/FFKM2/FFKM2_pos.log'\n",
      "abnormal\n",
      "Error: [Errno 2] No such file or directory: 'wang5/TAG2/TAG2_neu.log'\n",
      "abnormal\n",
      "Error: [Errno 2] No such file or directory: 'wang5/TAIC2/TAIC2_neu.log'\n",
      "abnormal\n",
      "Error: [Errno 2] No such file or directory: 'wang5/LDAI1C2/LDAI1C2_neu.log'\n",
      "abnormal\n",
      "Error: [Errno 2] No such file or directory: 'wang5/D2D2/D2D2_neu.log'\n",
      "abnormal\n",
      "\n",
      "清理数据中的异常值...\n",
      "\n",
      "IP计算结果（单位：eV）:\n",
      "分子顺序: ['FFKM', 'TAG', 'TAIC', 'LDAI1C', 'D2D']\n",
      "IP值:\n",
      " [[11.4655087          nan         nan         nan         nan]\n",
      " [11.48103307         nan         nan         nan         nan]\n",
      " [11.47327088         nan         nan         nan         nan]]\n"
     ]
    },
    {
     "name": "stderr",
     "output_type": "stream",
     "text": [
      "\n",
      "/Users/yuhangu/Desktop/electret_cal/data/data_processor.py:151: FutureWarning: Downcasting object dtype arrays on .fillna, .ffill, .bfill is deprecated and will change in a future version. Call result.infer_objects(copy=False) instead. To opt-in to the future behavior, set `pd.set_option('future.no_silent_downcasting', True)`\n",
      "  return df.fillna(df.mean())\n"
     ]
    }
   ],
   "source": [
    "from data.data_processor import DataProcessor\n",
    "from tqdm import tqdm\n",
    "# 定义要分析的分子名称列表\n",
    "molecule_names =  ['FFKM','TAG','TAIC','LDAI1C','D2D']\n",
    "\n",
    "# 设置迭代次数\n",
    "iterations = 3\n",
    "\n",
    "# 使用DataProcessor创建IP属性的数据框\n",
    "print(\"正在计算IP值...\")\n",
    "ip_df = DataProcessor.create_property_dataframe(molecule_names, iterations, 'IP',parent_dir=set_name)\n",
    "\n",
    "# 清理数据中的异常值\n",
    "print(\"\\n清理数据中的异常值...\")\n",
    "clean_ip_df = DataProcessor.clean_data(ip_df)\n",
    "\n",
    "# 转换为numpy数组并保存结果\n",
    "ip_array = clean_ip_df.to_numpy()\n",
    "print(\"\\nIP计算结果（单位：eV）:\")\n",
    "print(\"分子顺序:\", molecule_names)\n",
    "print(\"IP值:\\n\", ip_array)\n",
    "\n",
    "# # 计算每个分子的统计值并生成可视化\n",
    "# print(\"\\n各分子的IP统计分析:\")\n",
    "# for i, molecule in enumerate(molecule_names):\n",
    "#     values = ip_array[:, i]\n",
    "#     median, mean = DataProcessor.analyze_property(values.tolist(), molecule, 'IP')"
   ]
  },
  {
   "cell_type": "code",
   "execution_count": 3,
   "metadata": {},
   "outputs": [
    {
     "data": {
      "text/html": [
       "<div>\n",
       "<style scoped>\n",
       "    .dataframe tbody tr th:only-of-type {\n",
       "        vertical-align: middle;\n",
       "    }\n",
       "\n",
       "    .dataframe tbody tr th {\n",
       "        vertical-align: top;\n",
       "    }\n",
       "\n",
       "    .dataframe thead th {\n",
       "        text-align: right;\n",
       "    }\n",
       "</style>\n",
       "<table border=\"1\" class=\"dataframe\">\n",
       "  <thead>\n",
       "    <tr style=\"text-align: right;\">\n",
       "      <th></th>\n",
       "      <th>FFKM</th>\n",
       "      <th>TAG</th>\n",
       "      <th>TAIC</th>\n",
       "      <th>LDAI1C</th>\n",
       "      <th>D2D</th>\n",
       "    </tr>\n",
       "  </thead>\n",
       "  <tbody>\n",
       "    <tr>\n",
       "      <th>0</th>\n",
       "      <td>11.465509</td>\n",
       "      <td>None</td>\n",
       "      <td>None</td>\n",
       "      <td>None</td>\n",
       "      <td>None</td>\n",
       "    </tr>\n",
       "    <tr>\n",
       "      <th>1</th>\n",
       "      <td>11.481033</td>\n",
       "      <td>None</td>\n",
       "      <td>None</td>\n",
       "      <td>None</td>\n",
       "      <td>None</td>\n",
       "    </tr>\n",
       "    <tr>\n",
       "      <th>2</th>\n",
       "      <td>NaN</td>\n",
       "      <td>None</td>\n",
       "      <td>None</td>\n",
       "      <td>None</td>\n",
       "      <td>None</td>\n",
       "    </tr>\n",
       "  </tbody>\n",
       "</table>\n",
       "</div>"
      ],
      "text/plain": [
       "        FFKM   TAG  TAIC LDAI1C   D2D\n",
       "0  11.465509  None  None   None  None\n",
       "1  11.481033  None  None   None  None\n",
       "2        NaN  None  None   None  None"
      ]
     },
     "execution_count": 3,
     "metadata": {},
     "output_type": "execute_result"
    }
   ],
   "source": [
    "ip_df"
   ]
  },
  {
   "cell_type": "code",
   "execution_count": null,
   "metadata": {},
   "outputs": [],
   "source": []
  }
 ],
 "metadata": {
  "kernelspec": {
   "display_name": "integrated",
   "language": "python",
   "name": "python3"
  },
  "language_info": {
   "codemirror_mode": {
    "name": "ipython",
    "version": 3
   },
   "file_extension": ".py",
   "mimetype": "text/x-python",
   "name": "python",
   "nbconvert_exporter": "python",
   "pygments_lexer": "ipython3",
   "version": "3.9.21"
  }
 },
 "nbformat": 4,
 "nbformat_minor": 2
}
