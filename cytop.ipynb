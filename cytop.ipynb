{
 "cells": [
  {
   "cell_type": "code",
<<<<<<< HEAD
   "execution_count": 14,
=======
   "execution_count": 8,
>>>>>>> a0fe65c (modi)
   "metadata": {},
   "outputs": [],
   "source": [
    "# 导入必要的库\n",
    "import sys\n",
    "import os\n",
    "import pandas as pd\n",
    "import numpy as np\n",
    "from rdkit import Chem\n",
    "from pathlib import Path\n",
    "import time\n",
    "\n",
    "# 添加项目根目录到系统路径\n",
    "project_root = Path().absolute().parent\n",
    "sys.path.append(str(project_root))\n",
    "\n",
    "# 导入项目相关模块\n",
    "from core.molecule_processor import MoleculeProcessor\n",
    "from core.gaussian_calculator import GaussianCalculator\n",
    "from visualization.plot_manager import PlotManager\n",
    "from utils.cluster_monitor import ClusterMonitor\n",
    "\n",
    "# some calculations for wang's paper\n",
    "name_list = ['S','A','EHOPA','AEPYridine','AEP','APN','DBE','DIPEDA','OA','mXD']\n",
    "\n",
    "base_list = [\n",
    "'FC1(C(F)(C(F)(F)F)F)C(OC(F)(F)C(F)1F)(C(F)(C(F)(F)F)F)F',\n",
    "'FC1(C(F)(C(F)(F)F)F)C(OC(F)(F)C(F)1F)(C(F)(C(O)=O)F)F',\n",
    "'CCCCC(CC)COCCCNC(C(F)(F)C1(F)OC(F)(F)C(F)(F)C1(C(F)(C(O)=O)F)F)=O',\n",
    "'FC1(F)C(F)(F)C(F)(C(F)(C(O)=O)F)C(F)(C(F)(C(NCCC2=CN=CC=C2)=O)F)O1',\n",
    "'FC1(F)C(F)(F)C(F)(C(F)(C(O)=O)F)C(F)(C(F)(C(NCCN2CCCCC2)=O)F)O1',\n",
    "'FC1(F)C(F)(F)C(F)(C(F)(C(O)=O)F)C(F)(C(F)(C(NC2=CC(C#N)=CC(C#N)=C2)=O)F)O1',\n",
    "'FC1(F)C(F)(F)C(F)(C(F)(C(O)=O)F)C(F)(C(F)(C(NCCN(CCCC)CCCC)=O)F)O1',\n",
    "'FC1(F)C(F)(F)C(F)(C(F)(C(O)=O)F)C(F)(C(F)(C(NCCN(C(C)C)C(C)C)=O)F)O1',\n",
    "'FC1(F)C(F)(F)C(F)(C(F)(C(O)=O)F)C(F)(C(F)(C(NCCCCCCCC)=O)F)O1',\n",
    "'FC1(F)C(F)(F)C(F)(C(F)(C(O)=O)F)C(F)(C(F)(C(NCC2=CC(CN)=CC=C2)=O)F)O1',\n",
    "]\n",
    "\n",
    "set_name = 'cytopopt'\n",
    "iteration = 3\n",
    "calculator_params = {\n",
    "    'parent_dir': set_name,\n",
    "    'method': 'CAM-B3LYP',  # DFT泛函\n",
    "    'basis': '6-31G(d,p)',  # 基组\n",
    "    'opt': True,  # 进行结构优化\n",
    "    'dispersion': False,  # 包含色散校正\n",
    "    'polar': False,  # 不计算极化率\n",
    "    'volume': False,  # 不计算体积\n",
    "    'pcm': True,  # 不使用PCM溶剂化模型\n",
    "    'eps': 2.05,  # PCM模型的介电常数\n",
    "    'wfn': True,  # 输出波函数文件\n",
    "    'debug': False  # 非调试模式\n",
    "}\n",
    "\n"
   ]
  },
  {
   "cell_type": "code",
   "execution_count": 9,
   "metadata": {},
   "outputs": [],
   "source": [
    "# 使用PlotManager绘制分子结构\n",
    "PlotManager.plot_molecules(\n",
    "    smiles_list=base_list,\n",
    "    name_list=name_list,\n",
    "    parent_dir=set_name,\n",
    "    save_path='molecular_structures.pdf',\n",
    "    cols=5,  # 每行显示4个分子\n",
    "    with_timestamp=False\n",
    ")\n"
   ]
  },
  {
   "cell_type": "code",
   "execution_count": 10,
   "metadata": {},
   "outputs": [],
   "source": [
    "# ... earlier code remains the same ...\n",
    "\n",
    "# 为每个FFKM分子生成多个xyz文件\n",
    "for i, (mol_smiles, mol_name) in enumerate(zip(base_list, name_list)):\n",
    "    success_count = 0\n",
    "    attempt = 0\n",
    "    max_attempts = 20  # 最大尝试次数，防止无限循环\n",
    "    \n",
    "    while success_count < iteration and attempt < max_attempts:\n",
    "        try:\n",
    "            current_seed = 42 + attempt\n",
    "            \n",
    "            # 修改文件命名格式，使用 init 作为后缀\n",
    "            xyz_filename = f\"{mol_name}{success_count}_init.xyz\"\n",
    "            \n",
    "            MoleculeProcessor.smile2xyz(\n",
    "                xyz_name=xyz_filename,\n",
    "                smile=mol_smiles,\n",
    "                randomSeed=current_seed,\n",
    "                parent_dir=set_name\n",
    "            )\n",
    "            \n",
    "            success_count += 1\n",
    "            # print(f\"成功生成 {mol_name} 的第 {success_count} 个初始构象\")\n",
    "            \n",
    "        except Exception as e:\n",
    "            print(f\"尝试生成 {mol_name} 第 {success_count + 1} 个构象时失败: {e}\")\n",
    "        \n",
    "        attempt += 1\n",
    "    \n",
    "    if success_count < iteration:\n",
    "        print(f\"警告: {mol_name} 只成功生成了 {success_count} 个构象\")"
   ]
  },
  {
   "cell_type": "code",
<<<<<<< HEAD
   "execution_count": 15,
   "metadata": {},
   "outputs": [
    {
     "name": "stdout",
     "output_type": "stream",
     "text": [
      "Submitted batch job 2328183\n",
      "Submitted batch job 2328184\n",
      "Submitted batch job 2328185\n",
      "Submitted batch job 2328186\n",
      "Submitted batch job 2328187\n",
      "Submitted batch job 2328188\n",
      "Submitted batch job 2328189\n",
      "Submitted batch job 2328190\n",
      "Submitted batch job 2328191\n",
      "Submitted batch job 2328192\n",
      "Submitted batch job 2328193\n",
      "Submitted batch job 2328194\n",
      "Submitted batch job 2328195\n",
      "Submitted batch job 2328196\n",
      "Submitted batch job 2328197\n",
      "Submitted batch job 2328198\n",
      "Submitted batch job 2328199\n",
      "Submitted batch job 2328200\n",
      "Submitted batch job 2328201\n",
      "Submitted batch job 2328202\n",
      "Submitted batch job 2328203\n",
      "Submitted batch job 2328204\n",
      "Submitted batch job 2328205\n",
      "Submitted batch job 2328206\n",
      "Submitted batch job 2328207\n",
      "Submitted batch job 2328208\n",
      "Submitted batch job 2328209\n",
      "Submitted batch job 2328210\n",
      "Submitted batch job 2328211\n",
      "Submitted batch job 2328212\n"
     ]
    }
   ],
=======
   "execution_count": null,
   "metadata": {},
   "outputs": [],
>>>>>>> a0fe65c (modi)
   "source": [
    "# 为每个分子准备高斯计算文件\n",
    "monitor = ClusterMonitor()\n",
    "\n",
    "for conf_id in range(iteration):\n",
    "    try:\n",
    "        for name in name_list:\n",
    "            while monitor.is_queue_full(4):\n",
    "                time.sleep(60)\n",
    "        # 为每个构象准备2种电荷态的计算文件\n",
    "            xyz_file = f\"{name}{conf_id}_init.xyz\"\n",
    "            \n",
    "            # 准备中性态计算文件\n",
    "            neutral_calc = GaussianCalculator(**calculator_params, charge='neu')\n",
    "            neutral_calc._prepare_calculation(xyz_file)\n",
    "            neutral_calc._generate_input_file()\n",
    "            neutral_calc._generate_shell_script()\n",
    "            neutral_calc._submit_job()\n",
    "            \n",
    "            \n",
    "            # # 准备阳离子态计算文件（用于IP计算）\n",
    "            # cation_calc = GaussianCalculator(**calculator_params, charge='pos')\n",
    "            # cation_calc._prepare_calculation(xyz_file)\n",
    "            # cation_calc._generate_input_file()\n",
    "            # cation_calc._generate_shell_script()\n",
    "            # cation_calc._submit_job()\n",
    "                    \n",
    "    except Exception as e:\n",
    "        print(f\"处理{name}时出错: {str(e)}\")"
   ]
  },
  {
   "cell_type": "code",
   "execution_count": 9,
   "metadata": {},
   "outputs": [
    {
     "name": "stderr",
     "output_type": "stream",
     "text": [
      "100%|██████████| 10/10 [00:00<00:00, 16371.21it/s]\n"
     ]
    },
    {
     "name": "stdout",
     "output_type": "stream",
     "text": [
      "Error: [Errno 2] No such file or directory: 'cytopopt/S0/S0_neu.log'\n",
      "Error: [Errno 2] No such file or directory: 'cytopopt/S0/S0_neu.log'\n",
      "Error: [Errno 2] No such file or directory: 'cytopopt/A0/A0_neu.log'\n",
      "Error: [Errno 2] No such file or directory: 'cytopopt/A0/A0_neu.log'\n",
      "Error: [Errno 2] No such file or directory: 'cytopopt/EHOPA0/EHOPA0_neu.log'\n",
      "Error: [Errno 2] No such file or directory: 'cytopopt/EHOPA0/EHOPA0_neu.log'\n",
      "Error: [Errno 2] No such file or directory: 'cytopopt/AEPYridine0/AEPYridine0_neu.log'\n",
      "Error: [Errno 2] No such file or directory: 'cytopopt/AEPYridine0/AEPYridine0_neu.log'\n",
      "Error: [Errno 2] No such file or directory: 'cytopopt/AEP0/AEP0_neu.log'\n",
      "Error: [Errno 2] No such file or directory: 'cytopopt/AEP0/AEP0_neu.log'\n",
      "Error: [Errno 2] No such file or directory: 'cytopopt/APN0/APN0_neu.log'\n",
      "Error: [Errno 2] No such file or directory: 'cytopopt/APN0/APN0_neu.log'\n",
      "Error: [Errno 2] No such file or directory: 'cytopopt/DBE0/DBE0_neu.log'\n",
      "Error: [Errno 2] No such file or directory: 'cytopopt/DBE0/DBE0_neu.log'\n",
      "Error: [Errno 2] No such file or directory: 'cytopopt/DIPEDA0/DIPEDA0_neu.log'\n",
      "Error: [Errno 2] No such file or directory: 'cytopopt/DIPEDA0/DIPEDA0_neu.log'\n",
      "Error: [Errno 2] No such file or directory: 'cytopopt/OA0/OA0_neu.log'\n",
      "Error: [Errno 2] No such file or directory: 'cytopopt/OA0/OA0_neu.log'\n",
      "Error: [Errno 2] No such file or directory: 'cytopopt/mXD0/mXD0_neu.log'\n",
      "Error: [Errno 2] No such file or directory: 'cytopopt/mXD0/mXD0_neu.log'\n"
     ]
    },
    {
     "name": "stderr",
     "output_type": "stream",
     "text": [
      "100%|██████████| 10/10 [00:00<00:00, 27395.85it/s]\n"
     ]
    },
    {
     "name": "stdout",
     "output_type": "stream",
     "text": [
      "Error: [Errno 2] No such file or directory: 'cytopopt/S1/S1_neu.log'\n",
      "Error: [Errno 2] No such file or directory: 'cytopopt/S1/S1_neu.log'\n",
      "Error: [Errno 2] No such file or directory: 'cytopopt/A1/A1_neu.log'\n",
      "Error: [Errno 2] No such file or directory: 'cytopopt/A1/A1_neu.log'\n",
      "Error: [Errno 2] No such file or directory: 'cytopopt/EHOPA1/EHOPA1_neu.log'\n",
      "Error: [Errno 2] No such file or directory: 'cytopopt/EHOPA1/EHOPA1_neu.log'\n",
      "Error: [Errno 2] No such file or directory: 'cytopopt/AEPYridine1/AEPYridine1_neu.log'\n",
      "Error: [Errno 2] No such file or directory: 'cytopopt/AEPYridine1/AEPYridine1_neu.log'\n",
      "Error: [Errno 2] No such file or directory: 'cytopopt/AEP1/AEP1_neu.log'\n",
      "Error: [Errno 2] No such file or directory: 'cytopopt/AEP1/AEP1_neu.log'\n",
      "Error: [Errno 2] No such file or directory: 'cytopopt/APN1/APN1_neu.log'\n",
      "Error: [Errno 2] No such file or directory: 'cytopopt/APN1/APN1_neu.log'\n",
      "Error: [Errno 2] No such file or directory: 'cytopopt/DBE1/DBE1_neu.log'\n",
      "Error: [Errno 2] No such file or directory: 'cytopopt/DBE1/DBE1_neu.log'\n",
      "Error: [Errno 2] No such file or directory: 'cytopopt/DIPEDA1/DIPEDA1_neu.log'\n",
      "Error: [Errno 2] No such file or directory: 'cytopopt/DIPEDA1/DIPEDA1_neu.log'\n",
      "Error: [Errno 2] No such file or directory: 'cytopopt/OA1/OA1_neu.log'\n",
      "Error: [Errno 2] No such file or directory: 'cytopopt/OA1/OA1_neu.log'\n",
      "Error: [Errno 2] No such file or directory: 'cytopopt/mXD1/mXD1_neu.log'\n",
      "Error: [Errno 2] No such file or directory: 'cytopopt/mXD1/mXD1_neu.log'\n"
     ]
    },
    {
     "name": "stderr",
     "output_type": "stream",
     "text": [
      "100%|██████████| 10/10 [00:00<00:00, 30504.03it/s]"
     ]
    },
    {
     "name": "stdout",
     "output_type": "stream",
     "text": [
      "Error: [Errno 2] No such file or directory: 'cytopopt/S2/S2_neu.log'\n",
      "Error: [Errno 2] No such file or directory: 'cytopopt/S2/S2_neu.log'\n",
      "Error: [Errno 2] No such file or directory: 'cytopopt/A2/A2_neu.log'\n",
      "Error: [Errno 2] No such file or directory: 'cytopopt/A2/A2_neu.log'\n",
      "Error: [Errno 2] No such file or directory: 'cytopopt/EHOPA2/EHOPA2_neu.log'\n",
      "Error: [Errno 2] No such file or directory: 'cytopopt/EHOPA2/EHOPA2_neu.log'\n",
      "Error: [Errno 2] No such file or directory: 'cytopopt/AEPYridine2/AEPYridine2_neu.log'\n",
      "Error: [Errno 2] No such file or directory: 'cytopopt/AEPYridine2/AEPYridine2_neu.log'\n",
      "Error: [Errno 2] No such file or directory: 'cytopopt/AEP2/AEP2_neu.log'\n",
      "Error: [Errno 2] No such file or directory: 'cytopopt/AEP2/AEP2_neu.log'\n",
      "Error: [Errno 2] No such file or directory: 'cytopopt/APN2/APN2_neu.log'\n",
      "Error: [Errno 2] No such file or directory: 'cytopopt/APN2/APN2_neu.log'\n",
      "Error: [Errno 2] No such file or directory: 'cytopopt/DBE2/DBE2_neu.log'\n",
      "Error: [Errno 2] No such file or directory: 'cytopopt/DBE2/DBE2_neu.log'\n",
      "Error: [Errno 2] No such file or directory: 'cytopopt/DIPEDA2/DIPEDA2_neu.log'\n",
      "Error: [Errno 2] No such file or directory: 'cytopopt/DIPEDA2/DIPEDA2_neu.log'\n",
      "Error: [Errno 2] No such file or directory: 'cytopopt/OA2/OA2_neu.log'\n",
      "Error: [Errno 2] No such file or directory: 'cytopopt/OA2/OA2_neu.log'\n",
      "Error: [Errno 2] No such file or directory: 'cytopopt/mXD2/mXD2_neu.log'\n",
      "Error: [Errno 2] No such file or directory: 'cytopopt/mXD2/mXD2_neu.log'\n"
     ]
    },
    {
     "name": "stderr",
     "output_type": "stream",
     "text": [
      "\n"
     ]
    },
    {
     "data": {
      "text/html": [
       "<div>\n",
       "<style scoped>\n",
       "    .dataframe tbody tr th:only-of-type {\n",
       "        vertical-align: middle;\n",
       "    }\n",
       "\n",
       "    .dataframe tbody tr th {\n",
       "        vertical-align: top;\n",
       "    }\n",
       "\n",
       "    .dataframe thead th {\n",
       "        text-align: right;\n",
       "    }\n",
       "</style>\n",
       "<table border=\"1\" class=\"dataframe\">\n",
       "  <thead>\n",
       "    <tr style=\"text-align: right;\">\n",
       "      <th></th>\n",
       "      <th>S</th>\n",
       "      <th>A</th>\n",
       "      <th>EHOPA</th>\n",
       "      <th>AEPYridine</th>\n",
       "      <th>AEP</th>\n",
       "      <th>APN</th>\n",
       "      <th>DBE</th>\n",
       "      <th>DIPEDA</th>\n",
       "      <th>OA</th>\n",
       "      <th>mXD</th>\n",
       "    </tr>\n",
       "  </thead>\n",
       "  <tbody>\n",
       "    <tr>\n",
       "      <th>Iteration_0</th>\n",
       "      <td>None</td>\n",
       "      <td>None</td>\n",
       "      <td>None</td>\n",
       "      <td>None</td>\n",
       "      <td>None</td>\n",
       "      <td>None</td>\n",
       "      <td>None</td>\n",
       "      <td>None</td>\n",
       "      <td>None</td>\n",
       "      <td>None</td>\n",
       "    </tr>\n",
       "    <tr>\n",
       "      <th>Iteration_1</th>\n",
       "      <td>None</td>\n",
       "      <td>None</td>\n",
       "      <td>None</td>\n",
       "      <td>None</td>\n",
       "      <td>None</td>\n",
       "      <td>None</td>\n",
       "      <td>None</td>\n",
       "      <td>None</td>\n",
       "      <td>None</td>\n",
       "      <td>None</td>\n",
       "    </tr>\n",
       "    <tr>\n",
       "      <th>Iteration_2</th>\n",
       "      <td>None</td>\n",
       "      <td>None</td>\n",
       "      <td>None</td>\n",
       "      <td>None</td>\n",
       "      <td>None</td>\n",
       "      <td>None</td>\n",
       "      <td>None</td>\n",
       "      <td>None</td>\n",
       "      <td>None</td>\n",
       "      <td>None</td>\n",
       "    </tr>\n",
       "  </tbody>\n",
       "</table>\n",
       "</div>"
      ],
      "text/plain": [
       "                S     A EHOPA AEPYridine   AEP   APN   DBE DIPEDA    OA   mXD\n",
       "Iteration_0  None  None  None       None  None  None  None   None  None  None\n",
       "Iteration_1  None  None  None       None  None  None  None   None  None  None\n",
       "Iteration_2  None  None  None       None  None  None  None   None  None  None"
      ]
     },
     "execution_count": 9,
     "metadata": {},
     "output_type": "execute_result"
    }
   ],
   "source": [
    "from data.data_processor import DataProcessor\n",
    "from tqdm import tqdm\n",
    "# 定义要分析的分子名称列表\n",
    "\n",
    "# 设置迭代次数\n",
    "iterations = 3\n",
    "# # 使用DataProcessor创建IP属性的数据框\n",
    "# print(\"正在计算IP值...\")\n",
    "ip_df = DataProcessor.create_property_dataframe(name_list, iterations, 'HOMO_trapdepth',parent_dir=set_name)\n",
    "a = ip_df.mean().tolist()\n",
    "ip_df\n",
    "# # 清理数据中的异常值\n",
    "# print(\"\\n清理数据中的异常值...\")\n",
    "# clean_ip_df = DataProcessor.clean_data(ip_df)\n",
    "\n",
    "# 转换为numpy数组并保存结果\n",
    "# ip_array = clean_ip_df.to_numpy()\n",
    "# print(\"\\nIP计算结果（单位：eV）:\")\n",
    "# print(\"分子顺序:\", molecule_names)\n",
    "# print(\"IP值:\\n\", ip_array)\n",
    "\n",
    "# # 计算每个分子的统计值并生成可视化\n",
    "# print(\"\\n各分子的IP统计分析:\")\n",
    "# for i, molecule in enumerate(molecule_names):\n",
    "#     values = ip_array[:, i]\n",
    "#     median, mean = DataProcessor.analyze_property(values.tolist(), molecule, 'IP')"
   ]
  },
  {
   "cell_type": "code",
   "execution_count": 21,
   "metadata": {},
   "outputs": [
    {
     "data": {
      "text/html": [
       "<div>\n",
       "<style scoped>\n",
       "    .dataframe tbody tr th:only-of-type {\n",
       "        vertical-align: middle;\n",
       "    }\n",
       "\n",
       "    .dataframe tbody tr th {\n",
       "        vertical-align: top;\n",
       "    }\n",
       "\n",
       "    .dataframe thead th {\n",
       "        text-align: right;\n",
       "    }\n",
       "</style>\n",
       "<table border=\"1\" class=\"dataframe\">\n",
       "  <thead>\n",
       "    <tr style=\"text-align: right;\">\n",
       "      <th></th>\n",
       "      <th>S</th>\n",
       "      <th>A</th>\n",
       "      <th>EHOPA</th>\n",
       "      <th>AEPYridine</th>\n",
       "      <th>AEP</th>\n",
       "      <th>APN</th>\n",
       "      <th>DBE</th>\n",
       "      <th>DIPEDA</th>\n",
       "      <th>OA</th>\n",
       "      <th>mXD</th>\n",
       "    </tr>\n",
       "  </thead>\n",
       "  <tbody>\n",
       "    <tr>\n",
       "      <th>Iteration_0</th>\n",
       "      <td>0.947229</td>\n",
       "      <td>0.836206</td>\n",
       "      <td>1.002740</td>\n",
       "      <td>0.584229</td>\n",
       "      <td>0.734708</td>\n",
       "      <td>0.212249</td>\n",
       "      <td>0.608175</td>\n",
       "      <td>0.568446</td>\n",
       "      <td>0.913759</td>\n",
       "      <td>0.216059</td>\n",
       "    </tr>\n",
       "    <tr>\n",
       "      <th>Iteration_1</th>\n",
       "      <td>0.632937</td>\n",
       "      <td>1.306147</td>\n",
       "      <td>0.589943</td>\n",
       "      <td>0.625862</td>\n",
       "      <td>0.701238</td>\n",
       "      <td>0.217419</td>\n",
       "      <td>0.619059</td>\n",
       "      <td>0.663958</td>\n",
       "      <td>0.648448</td>\n",
       "      <td>0.558650</td>\n",
       "    </tr>\n",
       "    <tr>\n",
       "      <th>Iteration_2</th>\n",
       "      <td>0.947773</td>\n",
       "      <td>1.296079</td>\n",
       "      <td>0.920290</td>\n",
       "      <td>0.450349</td>\n",
       "      <td>0.739606</td>\n",
       "      <td>0.207623</td>\n",
       "      <td>0.834846</td>\n",
       "      <td>0.721918</td>\n",
       "      <td>0.593481</td>\n",
       "      <td>0.785865</td>\n",
       "    </tr>\n",
       "  </tbody>\n",
       "</table>\n",
       "</div>"
      ],
      "text/plain": [
       "                    S         A     EHOPA  AEPYridine       AEP       APN  \\\n",
       "Iteration_0  0.947229  0.836206  1.002740    0.584229  0.734708  0.212249   \n",
       "Iteration_1  0.632937  1.306147  0.589943    0.625862  0.701238  0.217419   \n",
       "Iteration_2  0.947773  1.296079  0.920290    0.450349  0.739606  0.207623   \n",
       "\n",
       "                  DBE    DIPEDA        OA       mXD  \n",
       "Iteration_0  0.608175  0.568446  0.913759  0.216059  \n",
       "Iteration_1  0.619059  0.663958  0.648448  0.558650  \n",
       "Iteration_2  0.834846  0.721918  0.593481  0.785865  "
      ]
     },
     "execution_count": 21,
     "metadata": {},
     "output_type": "execute_result"
    }
   ],
   "source": [
    "ip_df"
   ]
  },
  {
   "cell_type": "code",
<<<<<<< HEAD
   "execution_count": 13,
   "metadata": {},
   "outputs": [
    {
     "name": "stdout",
     "output_type": "stream",
     "text": [
      "已取消任务: 2328182\n",
      "已取消任务: 2328181\n",
      "已取消任务: 2328180\n",
      "已取消任务: 2328179\n"
     ]
    }
   ],
   "source": [
    "monitor = ClusterMonitor()\n",
    "monitor.cancel_all_jobs()"
=======
   "execution_count": 15,
   "metadata": {},
   "outputs": [
    {
     "data": {
      "text/plain": [
       "[0.8426463533333335,\n",
       " 1.146144168,\n",
       " 0.8376575966666667,\n",
       " 0.553479876,\n",
       " 0.72518381,\n",
       " 0.21243032933333328,\n",
       " 0.687359964,\n",
       " 0.651440916,\n",
       " 0.7185623693333335,\n",
       " 0.5201912633333333]"
      ]
     },
     "execution_count": 15,
     "metadata": {},
     "output_type": "execute_result"
    }
   ],
   "source": [
    "a"
   ]
  },
  {
   "cell_type": "code",
   "execution_count": 7,
   "metadata": {},
   "outputs": [],
   "source": [
    "P_sp = {'S':0.135,'A':0.211,'EHOPA':0.686,'AEPYridine':0.855,'AEP':0.862,\n",
    "        'APN':0.558,'DBE':0.746,'DIPEDA':0.715,'OA':0.576,'mXD':0.959,}\n",
    "\n",
    "N_sp = {'S':0.088,'A':0.237,'EHOPA':0.5,'AEPYridine':0.875,'AEP':0.815,\n",
    "        'APN':0.409,'DBE':0.676,'DIPEDA':0.592,'OA':0.481,'mXD':0.954,}\n",
    "\n",
    "\n",
    "psp = np.array([P_sp[i] for i in name_list])\n",
    "nsp = np.array([N_sp[i] for i in name_list])\n"
   ]
  },
  {
   "cell_type": "code",
   "execution_count": 16,
   "metadata": {},
   "outputs": [
    {
     "data": {
      "text/plain": [
       "array([0.088, 0.237, 0.5  , 0.875, 0.815, 0.409, 0.676, 0.592, 0.481,\n",
       "       0.954])"
      ]
     },
     "execution_count": 16,
     "metadata": {},
     "output_type": "execute_result"
    }
   ],
   "source": [
    "nsp"
   ]
  },
  {
   "cell_type": "code",
   "execution_count": 18,
   "metadata": {},
   "outputs": [
    {
     "data": {
      "text/plain": [
       "array([[ 1.        , -0.42929775],\n",
       "       [-0.42929775,  1.        ]])"
      ]
     },
     "execution_count": 18,
     "metadata": {},
     "output_type": "execute_result"
    }
   ],
   "source": [
    "np.corrcoef(np.array(a),np.array(nsp))"
>>>>>>> a0fe65c (modi)
   ]
  },
  {
   "cell_type": "code",
   "execution_count": null,
   "metadata": {},
   "outputs": [],
   "source": []
  }
 ],
 "metadata": {
  "kernelspec": {
   "display_name": "integrated",
   "language": "python",
   "name": "python3"
  },
  "language_info": {
   "codemirror_mode": {
    "name": "ipython",
    "version": 3
   },
   "file_extension": ".py",
   "mimetype": "text/x-python",
   "name": "python",
   "nbconvert_exporter": "python",
   "pygments_lexer": "ipython3",
   "version": "3.9.18"
  }
 },
 "nbformat": 4,
 "nbformat_minor": 2
}
