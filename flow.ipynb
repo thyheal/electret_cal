{
 "cells": [
  {
   "cell_type": "code",
   "execution_count": 1,
   "metadata": {},
   "outputs": [],
   "source": [
    "import utils\n",
    "import gaussian_cal\n",
    "import pandas as pd\n",
    "import subprocess\n",
    "import os\n",
    "import time\n",
    "from utils import i8cpu_running\n",
    "name_list = ['S','A','EHOPA','AEPYridine','AEP','APN','DBE','DIPEDA','OA','mXD']\n",
    "smiles_list = [\n",
    "'FC1(C(F)(C(F)(F)F)F)C(OC(F)(F)C(F)1F)(C(F)(C(F)(F)F)F)F',\n",
    "'FC1(C(F)(C(F)(F)F)F)C(OC(F)(F)C(F)1F)(C(F)(C(O)=O)F)F',\n",
    "'CCCCC(CC)COCCCNC(C(F)(F)C1(F)OC(F)(F)C(F)(F)C1(C(F)(C(O)=O)F)F)=O',\n",
    "'FC1(F)C(F)(F)C(F)(C(F)(C(O)=O)F)C(F)(C(F)(C(NCCC2=CN=CC=C2)=O)F)O1',\n",
    "'FC1(F)C(F)(F)C(F)(C(F)(C(O)=O)F)C(F)(C(F)(C(NCCN2CCCCC2)=O)F)O1',\n",
    "'FC1(F)C(F)(F)C(F)(C(F)(C(O)=O)F)C(F)(C(F)(C(NC2=CC(C#N)=CC(C#N)=C2)=O)F)O1',\n",
    "'FC1(F)C(F)(F)C(F)(C(F)(C(O)=O)F)C(F)(C(F)(C(NCCN(CCCC)CCCC)=O)F)O1',\n",
    "'FC1(F)C(F)(F)C(F)(C(F)(C(O)=O)F)C(F)(C(F)(C(NCCN(C(C)C)C(C)C)=O)F)O1',\n",
    "'FC1(F)C(F)(F)C(F)(C(F)(C(O)=O)F)C(F)(C(F)(C(NCCCCCCCC)=O)F)O1',\n",
    "'FC1(F)C(F)(F)C(F)(C(F)(C(O)=O)F)C(F)(C(F)(C(NCC2=CC(CN)=CC=C2)=O)F)O1',\n",
    "]\n"
   ]
  },
  {
   "cell_type": "code",
   "execution_count": 2,
   "metadata": {},
   "outputs": [],
   "source": [
    "for _ in name_list:\n",
    "    try:\n",
    "        os.system(f\"cp -r CYTOP/{_}/* .\")\n",
    "    except:\n",
    "        pass\n"
   ]
  },
  {
   "cell_type": "code",
   "execution_count": 3,
   "metadata": {},
   "outputs": [
    {
     "name": "stdout",
     "output_type": "stream",
     "text": [
      "Submitted batch job 1693097\n",
      "Submitted batch job 1693100\n"
     ]
    },
    {
     "ename": "KeyboardInterrupt",
     "evalue": "",
     "output_type": "error",
     "traceback": [
      "\u001b[0;31m---------------------------------------------------------------------------\u001b[0m",
      "\u001b[0;31mKeyboardInterrupt\u001b[0m                         Traceback (most recent call last)",
      "\u001b[1;32m/home/k0335/k033513/electret_cal_git_cytop/flow.ipynb 单元格 3\u001b[0m line \u001b[0;36m1\n\u001b[1;32m      <a href='vscode-notebook-cell://ssh-remote%2B7b22686f73744e616d65223a22495353504f6874616b61227d/home/k0335/k033513/electret_cal_git_cytop/flow.ipynb#W2sdnNjb2RlLXJlbW90ZQ%3D%3D?line=5'>6</a>\u001b[0m \u001b[39mif\u001b[39;00m os\u001b[39m.\u001b[39mpath\u001b[39m.\u001b[39mexists(\u001b[39mf\u001b[39m\u001b[39m\"\u001b[39m\u001b[39m{\u001b[39;00mname_list[i]\u001b[39m}\u001b[39;00m\u001b[39m{\u001b[39;00mj\u001b[39m}\u001b[39;00m\u001b[39m\"\u001b[39m):\n\u001b[1;32m      <a href='vscode-notebook-cell://ssh-remote%2B7b22686f73744e616d65223a22495353504f6874616b61227d/home/k0335/k033513/electret_cal_git_cytop/flow.ipynb#W2sdnNjb2RlLXJlbW90ZQ%3D%3D?line=6'>7</a>\u001b[0m     \u001b[39m# if not utils.xyzcheck(f'{name_list[i]}{j}_0.xyz',smiles_list[i]):\u001b[39;00m\n\u001b[1;32m      <a href='vscode-notebook-cell://ssh-remote%2B7b22686f73744e616d65223a22495353504f6874616b61227d/home/k0335/k033513/electret_cal_git_cytop/flow.ipynb#W2sdnNjb2RlLXJlbW90ZQ%3D%3D?line=7'>8</a>\u001b[0m     \u001b[39m#     print(f\"{name_list[i]}{j}_0.xyz is not correct\")\u001b[39;00m\n\u001b[1;32m      <a href='vscode-notebook-cell://ssh-remote%2B7b22686f73744e616d65223a22495353504f6874616b61227d/home/k0335/k033513/electret_cal_git_cytop/flow.ipynb#W2sdnNjb2RlLXJlbW90ZQ%3D%3D?line=8'>9</a>\u001b[0m     \u001b[39m#     continue\u001b[39;00m\n\u001b[1;32m     <a href='vscode-notebook-cell://ssh-remote%2B7b22686f73744e616d65223a22495353504f6874616b61227d/home/k0335/k033513/electret_cal_git_cytop/flow.ipynb#W2sdnNjb2RlLXJlbW90ZQ%3D%3D?line=9'>10</a>\u001b[0m     \u001b[39mwhile\u001b[39;00m utils\u001b[39m.\u001b[39mi8cpu_running():\n\u001b[0;32m---> <a href='vscode-notebook-cell://ssh-remote%2B7b22686f73744e616d65223a22495353504f6874616b61227d/home/k0335/k033513/electret_cal_git_cytop/flow.ipynb#W2sdnNjb2RlLXJlbW90ZQ%3D%3D?line=10'>11</a>\u001b[0m         time\u001b[39m.\u001b[39;49msleep(\u001b[39m60\u001b[39;49m)\n\u001b[1;32m     <a href='vscode-notebook-cell://ssh-remote%2B7b22686f73744e616d65223a22495353504f6874616b61227d/home/k0335/k033513/electret_cal_git_cytop/flow.ipynb#W2sdnNjb2RlLXJlbW90ZQ%3D%3D?line=11'>12</a>\u001b[0m     G0\u001b[39m.\u001b[39mRun(\u001b[39mf\u001b[39m\u001b[39m\"\u001b[39m\u001b[39m{\u001b[39;00mname_list[i]\u001b[39m}\u001b[39;00m\u001b[39m{\u001b[39;00mj\u001b[39m}\u001b[39;00m\u001b[39m_0.xyz\u001b[39m\u001b[39m\"\u001b[39m)\n",
      "\u001b[0;31mKeyboardInterrupt\u001b[0m: "
     ]
    }
   ],
   "source": [
    "G0 = gaussian_cal.GaussianCal(method='cam-B3LYP',basis='6-311G(d,p)',charge='pos',wfn=True,debug=True)\n",
    "G0.log()\n",
    "\n",
    "for i in range(len(name_list)):\n",
    "    for j in range(200):\n",
    "        if os.path.exists(f\"{name_list[i]}{j}\"):\n",
    "            # if not utils.xyzcheck(f'{name_list[i]}{j}_0.xyz',smiles_list[i]):\n",
    "            #     print(f\"{name_list[i]}{j}_0.xyz is not correct\")\n",
    "            #     continue\n",
    "            while utils.i8cpu_running():\n",
    "                time.sleep(60)\n",
    "            G0.Run(f\"{name_list[i]}{j}_0.xyz\")"
   ]
  },
  {
   "cell_type": "code",
   "execution_count": 29,
   "metadata": {},
   "outputs": [
    {
     "data": {
      "text/plain": [
       "int"
      ]
     },
     "execution_count": 29,
     "metadata": {},
     "output_type": "execute_result"
    }
   ],
   "source": [
    "output = subprocess.check_output(\"squeue\", shell=True, text=True)\n",
    "output.count('i8cpu')\n"
   ]
  },
  {
   "cell_type": "code",
   "execution_count": 31,
   "metadata": {},
   "outputs": [
    {
     "name": "stdout",
     "output_type": "stream",
     "text": [
      "Submitted batch job 1693091\n"
     ]
    }
   ],
   "source": [
    "G0.Run(\"APN0_0.xyz\")"
   ]
  },
  {
   "cell_type": "code",
   "execution_count": 32,
   "metadata": {},
   "outputs": [],
   "source": [
    "def time_calculation(log):\n",
    "    with open(log, 'r') as file:\n",
    "        for line in file:\n",
    "            if \"Job cpu time\" in line:\n",
    "                cpu_time = line.split(\":\")[1].strip()  # 获取冒号后面的部分并去除首尾空格\n",
    "                print(f\"Job cpu time: {cpu_time}\")\n",
    "                break"
   ]
  },
  {
   "cell_type": "code",
   "execution_count": 36,
   "metadata": {},
   "outputs": [
    {
     "name": "stdout",
     "output_type": "stream",
     "text": [
      "Job cpu time: 0 days  1 hours  7 minutes 45.2 seconds.\n"
     ]
    }
   ],
   "source": [
    "time_calculation(\"APN0/APN0_p1.log\")"
   ]
  },
  {
   "cell_type": "code",
   "execution_count": null,
   "metadata": {},
   "outputs": [],
   "source": []
  }
 ],
 "metadata": {
  "kernelspec": {
   "display_name": "GeoMol",
   "language": "python",
   "name": "python3"
  },
  "language_info": {
   "codemirror_mode": {
    "name": "ipython",
    "version": 3
   },
   "file_extension": ".py",
   "mimetype": "text/x-python",
   "name": "python",
   "nbconvert_exporter": "python",
   "pygments_lexer": "ipython3",
   "version": "3.9.16"
  }
 },
 "nbformat": 4,
 "nbformat_minor": 2
}
