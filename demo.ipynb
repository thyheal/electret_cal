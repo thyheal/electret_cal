{
 "cells": [
  {
   "cell_type": "code",
   "execution_count": 19,
   "metadata": {},
   "outputs": [],
   "source": [
    "# 导入必要的库\n",
    "import sys\n",
    "import os\n",
    "import pandas as pd\n",
    "import numpy as np\n",
    "from rdkit import Chem\n",
    "from pathlib import Path\n",
    "\n",
    "# 添加项目根目录到系统路径\n",
    "project_root = Path().absolute().parent\n",
    "sys.path.append(str(project_root))\n",
    "\n",
    "# 导入项目相关模块\n",
    "from core.molecule_processor import MoleculeProcessor\n",
    "from core.gaussian_calculator import GaussianCalculator\n",
    "from visualization.plot_manager import PlotManager\n",
    "\n",
    "# some calculations for wang's paper\n",
    "base_list = [\n",
    "'C(F)(F)(F)C(F)(F)C(F)(F)C(F)(F)(OC(F)(F)(F))',\n",
    "'C1(=O)N(CC=C)C2C(N(CC=C)C(=O)N2(CC=C))N1(CC=C)',\n",
    "'C1(=O)N(CC=C)C(=O)N(CC=C)C(=O)N1(CC=C)',\n",
    "'C1(=O)N(CC=C)C(=O)N(CC=C)C(=O)N1(C)',\n",
    "'C1(=O)N(CC=C)C(=O)N(CC=C)C(=O)N1(CCN2C(=O)N(CC=C)C(=O)N(CC=C)C2(=O))',\n",
    "]\n",
    "name_list = ['FFKM','TAG','TAIC','LDAI1C','D2D']\n",
    "set_name = 'wang5'\n",
    "iteration = 3\n",
    "calculator_params = {\n",
    "    'parent_dir': set_name,\n",
    "    'method': 'CAM-B3LYP',  # DFT泛函\n",
    "    'basis': '6-31G(d,p)',  # 基组\n",
    "    'opt': False,  # 进行结构优化\n",
    "    'dispersion': False,  # 包含色散校正\n",
    "    'polar': False,  # 不计算极化率\n",
    "    'volume': False,  # 不计算体积\n",
    "    'pcm': True,  # 不使用PCM溶剂化模型\n",
    "    'eps': 4.9,  # PCM模型的介电常数\n",
    "    'wfn': True,  # 输出波函数文件\n",
    "    'debug': False  # 非调试模式\n",
    "}\n",
    "\n"
   ]
  },
  {
   "cell_type": "code",
   "execution_count": 20,
   "metadata": {},
   "outputs": [],
   "source": [
    "# 使用PlotManager绘制分子结构\n",
    "PlotManager.plot_molecules(\n",
    "    smiles_list=base_list,\n",
    "    name_list=name_list,\n",
    "    parent_dir=set_name,\n",
    "    save_path='molecular_structures.pdf',\n",
    "    cols=5,  # 每行显示4个分子\n",
    "    with_timestamp=False\n",
    ")\n",
    "# FFKM分子构建和交联反应参数\n",
    "direction = 'L'\n",
    "m = 1\n",
    "n = 0\n",
    "c = 3\n",
    "\n",
    "# 进行FFKM分子构建和交联反应\n",
    "FFKM_list = []\n",
    "for base_mol in base_list:\n",
    "    # 构建FFKM分子\n",
    "    ffkm, connection_point = MoleculeProcessor.build_ffkm(\n",
    "        m=m,\n",
    "        n=n,\n",
    "        c=c,\n",
    "        connection_direction=direction\n",
    "    )\n",
    "    \n",
    "    # 模拟交联反应\n",
    "    crossed_mol = MoleculeProcessor.simulate_crosslink_reaction(\n",
    "        base=base_mol,\n",
    "        ffkm=ffkm,\n",
    "        connection_point=connection_point\n",
    "    )\n",
    "    \n",
    "    FFKM_list.append(crossed_mol)\n",
    "\n",
    "# 绘制交联反应后的分子结构\n",
    "PlotManager.plot_molecules(\n",
    "    smiles_list=FFKM_list,\n",
    "    name_list=name_list,\n",
    "    save_path='crosslinked_molecules.pdf',\n",
    "    parent_dir=set_name,\n",
    "    cols=5,  # 每行显示4个分子\n",
    "    with_timestamp=False\n",
    ")\n"
   ]
  },
  {
   "cell_type": "code",
   "execution_count": 21,
   "metadata": {},
   "outputs": [
    {
     "name": "stdout",
     "output_type": "stream",
     "text": [
      "尝试生成 TAG 第 1 个构象时失败: XYZ文件生成失败: Bad Conformer Id\n",
      "尝试生成 TAG 第 3 个构象时失败: XYZ文件生成失败: Bad Conformer Id\n"
     ]
    }
   ],
   "source": [
    "# ... earlier code remains the same ...\n",
    "\n",
    "# 为每个FFKM分子生成多个xyz文件\n",
    "for i, (mol_smiles, mol_name) in enumerate(zip(FFKM_list, name_list)):\n",
    "    success_count = 0\n",
    "    attempt = 0\n",
    "    max_attempts = 20  # 最大尝试次数，防止无限循环\n",
    "    \n",
    "    while success_count < iteration and attempt < max_attempts:\n",
    "        try:\n",
    "            current_seed = 42 + attempt\n",
    "            \n",
    "            # 修改文件命名格式，使用 init 作为后缀\n",
    "            xyz_filename = f\"{mol_name}{success_count}_init.xyz\"\n",
    "            \n",
    "            MoleculeProcessor.smile2xyz(\n",
    "                xyz_name=xyz_filename,\n",
    "                smile=mol_smiles,\n",
    "                randomSeed=current_seed,\n",
    "                parent_dir=set_name\n",
    "            )\n",
    "            \n",
    "            success_count += 1\n",
    "            # print(f\"成功生成 {mol_name} 的第 {success_count} 个初始构象\")\n",
    "            \n",
    "        except Exception as e:\n",
    "            print(f\"尝试生成 {mol_name} 第 {success_count + 1} 个构象时失败: {e}\")\n",
    "        \n",
    "        attempt += 1\n",
    "    \n",
    "    if success_count < iteration:\n",
    "        print(f\"警告: {mol_name} 只成功生成了 {success_count} 个构象\")"
   ]
  },
  {
   "cell_type": "code",
   "execution_count": 22,
   "metadata": {},
   "outputs": [
    {
     "name": "stdout",
     "output_type": "stream",
     "text": [
      "成功为FFKM准备所有计算文件\n",
      "成功为TAG准备所有计算文件\n",
      "成功为TAIC准备所有计算文件\n",
      "成功为LDAI1C准备所有计算文件\n",
      "成功为D2D准备所有计算文件\n"
     ]
    },
    {
     "name": "stderr",
     "output_type": "stream",
     "text": [
      "sh: sbatch: command not found\n",
      "sh: sbatch: command not found\n",
      "sh: sbatch: command not found\n",
      "sh: sbatch: command not found\n",
      "sh: sbatch: command not found\n",
      "sh: sbatch: command not found\n",
      "sh: sbatch: command not found\n",
      "sh: sbatch: command not found\n",
      "sh: sbatch: command not found\n",
      "sh: sbatch: command not found\n",
      "sh: sbatch: command not found\n",
      "sh: sbatch: command not found\n",
      "sh: sbatch: command not found\n",
      "sh: sbatch: command not found\n",
      "sh: sbatch: command not found\n",
      "sh: sbatch: command not found\n",
      "sh: sbatch: command not found\n",
      "sh: sbatch: command not found\n",
      "sh: sbatch: command not found\n",
      "sh: sbatch: command not found\n",
      "sh: sbatch: command not found\n",
      "sh: sbatch: command not found\n",
      "sh: sbatch: command not found\n",
      "sh: sbatch: command not found\n",
      "sh: sbatch: command not found\n",
      "sh: sbatch: command not found\n",
      "sh: sbatch: command not found\n",
      "sh: sbatch: command not found\n",
      "sh: sbatch: command not found\n",
      "sh: sbatch: command not found\n"
     ]
    }
   ],
   "source": [
    "# 为每个分子准备高斯计算文件\n",
    "for name in name_list:\n",
    "    try:\n",
    "        # 创建分子目录\n",
    "        mol_dir = Path('examples') / name\n",
    "        mol_dir.mkdir(parents=True, exist_ok=True)\n",
    "        \n",
    "        # 为每个构象准备2种电荷态的计算文件\n",
    "        for conf_id in range(iteration):\n",
    "            xyz_file = f\"{name}{conf_id}_init.xyz\"\n",
    "            \n",
    "            # 准备中性态计算文件\n",
    "            neutral_calc = GaussianCalculator(**calculator_params, charge='neu')\n",
    "            neutral_calc._prepare_calculation(xyz_file)\n",
    "            neutral_calc._generate_input_file()\n",
    "            neutral_calc._generate_shell_script()\n",
    "            neutral_calc._submit_job()\n",
    "            \n",
    "            \n",
    "            # 准备阳离子态计算文件（用于IP计算）\n",
    "            cation_calc = GaussianCalculator(**calculator_params, charge='pos')\n",
    "            cation_calc._prepare_calculation(xyz_file)\n",
    "            cation_calc._generate_input_file()\n",
    "            cation_calc._generate_shell_script()\n",
    "            cation_calc._submit_job()\n",
    "            \n",
    "        print(f\"成功为{name}准备所有计算文件\")\n",
    "        \n",
    "    except Exception as e:\n",
    "        print(f\"处理{name}时出错: {str(e)}\")"
   ]
  },
  {
   "cell_type": "code",
   "execution_count": 5,
   "metadata": {},
   "outputs": [
    {
     "name": "stdout",
     "output_type": "stream",
     "text": [
      "正在计算IP值...\n"
     ]
    },
    {
     "name": "stderr",
     "output_type": "stream",
     "text": [
      "100%|██████████| 4/4 [00:00<00:00, 5363.56it/s]"
     ]
    },
    {
     "name": "stdout",
     "output_type": "stream",
     "text": [
      "Error: [Errno 2] No such file or directory: 'finalDD2/finalDD2_0.log'\n",
      "Error: [Errno 2] No such file or directory: 'finalLDAIC1/finalLDAIC1_0.log'\n",
      "Error: [Errno 2] No such file or directory: 'finalTAG/finalTAG_0.log'\n",
      "Error: [Errno 2] No such file or directory: 'finalTAIC/finalTAIC_0.log'\n",
      "\n",
      "清理数据中的异常值...\n",
      "\n",
      "IP计算结果（单位：eV）:\n",
      "分子顺序: ['finalDD2', 'finalLDAIC1', 'finalTAG', 'finalTAIC']\n",
      "IP值:\n",
      " [[nan nan nan nan]]\n",
      "\n",
      "各分子的IP统计分析:\n"
     ]
    },
    {
     "name": "stderr",
     "output_type": "stream",
     "text": [
      "\n",
      "/Users/yuhangu/Desktop/electret_cal/data/data_processor.py:147: FutureWarning: Downcasting object dtype arrays on .fillna, .ffill, .bfill is deprecated and will change in a future version. Call result.infer_objects(copy=False) instead. To opt-in to the future behavior, set `pd.set_option('future.no_silent_downcasting', True)`\n",
      "  return df.fillna(df.mean())\n"
     ]
    },
    {
     "data": {
      "image/png": "[encoded data removed]",
      "text/plain": [
       "<Figure size 800x600 with 1 Axes>"
      ]
     },
     "metadata": {},
     "output_type": "display_data"
    },
    {
     "name": "stderr",
     "output_type": "stream",
     "text": [
      "/opt/anaconda3/envs/integrated/lib/python3.9/site-packages/numpy/lib/_histograms_impl.py:895: RuntimeWarning: invalid value encountered in divide\n",
      "  return n/db/n.sum(), bin_edges\n"
     ]
    },
    {
     "data": {
      "image/png": "[encoded data removed]",
      "text/plain": [
       "<Figure size 800x600 with 1 Axes>"
      ]
     },
     "metadata": {},
     "output_type": "display_data"
    },
    {
     "name": "stdout",
     "output_type": "stream",
     "text": [
      "\n",
      "finalDD2 IP Statistics:\n",
      "Number of valid samples: 0\n"
     ]
    },
    {
     "name": "stderr",
     "output_type": "stream",
     "text": [
      "/opt/anaconda3/envs/integrated/lib/python3.9/site-packages/numpy/_core/fromnumeric.py:3596: RuntimeWarning: Mean of empty slice.\n",
      "  return _methods._mean(a, axis=axis, dtype=dtype,\n",
      "/opt/anaconda3/envs/integrated/lib/python3.9/site-packages/numpy/_core/_methods.py:138: RuntimeWarning: invalid value encountered in scalar divide\n",
      "  ret = ret.dtype.type(ret / rcount)\n"
     ]
    },
    {
     "ename": "ValueError",
     "evalue": "zero-size array to reduction operation minimum which has no identity",
     "output_type": "error",
     "traceback": [
      "\u001b[0;31m---------------------------------------------------------------------------\u001b[0m",
      "\u001b[0;31mValueError\u001b[0m                                Traceback (most recent call last)",
      "Cell \u001b[0;32mIn[5], line 27\u001b[0m\n\u001b[1;32m     25\u001b[0m \u001b[38;5;28;01mfor\u001b[39;00m i, molecule \u001b[38;5;129;01min\u001b[39;00m \u001b[38;5;28menumerate\u001b[39m(molecule_names):\n\u001b[1;32m     26\u001b[0m     values \u001b[38;5;241m=\u001b[39m ip_array[:, i]\n\u001b[0;32m---> 27\u001b[0m     median, mean \u001b[38;5;241m=\u001b[39m \u001b[43mDataProcessor\u001b[49m\u001b[38;5;241;43m.\u001b[39;49m\u001b[43manalyze_property\u001b[49m\u001b[43m(\u001b[49m\u001b[43mvalues\u001b[49m\u001b[38;5;241;43m.\u001b[39;49m\u001b[43mtolist\u001b[49m\u001b[43m(\u001b[49m\u001b[43m)\u001b[49m\u001b[43m,\u001b[49m\u001b[43m \u001b[49m\u001b[43mmolecule\u001b[49m\u001b[43m,\u001b[49m\u001b[43m \u001b[49m\u001b[38;5;124;43m'\u001b[39;49m\u001b[38;5;124;43mIP\u001b[39;49m\u001b[38;5;124;43m'\u001b[39;49m\u001b[43m)\u001b[49m\n",
      "File \u001b[0;32m~/Desktop/electret_cal/data/data_processor.py:187\u001b[0m, in \u001b[0;36mDataProcessor.analyze_property\u001b[0;34m(values, molecule_name, property_name)\u001b[0m\n\u001b[1;32m    185\u001b[0m \u001b[38;5;28mprint\u001b[39m(\u001b[38;5;124mf\u001b[39m\u001b[38;5;124m\"\u001b[39m\u001b[38;5;130;01m\\n\u001b[39;00m\u001b[38;5;132;01m{\u001b[39;00mmolecule_name\u001b[38;5;132;01m}\u001b[39;00m\u001b[38;5;124m \u001b[39m\u001b[38;5;132;01m{\u001b[39;00mproperty_name\u001b[38;5;132;01m}\u001b[39;00m\u001b[38;5;124m Statistics:\u001b[39m\u001b[38;5;124m\"\u001b[39m)\n\u001b[1;32m    186\u001b[0m \u001b[38;5;28mprint\u001b[39m(\u001b[38;5;124mf\u001b[39m\u001b[38;5;124m\"\u001b[39m\u001b[38;5;124mNumber of valid samples: \u001b[39m\u001b[38;5;132;01m{\u001b[39;00m\u001b[38;5;28mlen\u001b[39m(clean_values)\u001b[38;5;132;01m}\u001b[39;00m\u001b[38;5;124m\"\u001b[39m)\n\u001b[0;32m--> 187\u001b[0m \u001b[38;5;28mprint\u001b[39m(\u001b[38;5;124mf\u001b[39m\u001b[38;5;124m\"\u001b[39m\u001b[38;5;124mMinimum: \u001b[39m\u001b[38;5;132;01m{\u001b[39;00mnp\u001b[38;5;241m.\u001b[39mmin(clean_values)\u001b[38;5;132;01m:\u001b[39;00m\u001b[38;5;124m.2f\u001b[39m\u001b[38;5;132;01m}\u001b[39;00m\u001b[38;5;124m\"\u001b[39m)\n\u001b[1;32m    188\u001b[0m \u001b[38;5;28mprint\u001b[39m(\u001b[38;5;124mf\u001b[39m\u001b[38;5;124m\"\u001b[39m\u001b[38;5;124mMaximum: \u001b[39m\u001b[38;5;132;01m{\u001b[39;00mnp\u001b[38;5;241m.\u001b[39mmax(clean_values)\u001b[38;5;132;01m:\u001b[39;00m\u001b[38;5;124m.2f\u001b[39m\u001b[38;5;132;01m}\u001b[39;00m\u001b[38;5;124m\"\u001b[39m)\n\u001b[1;32m    189\u001b[0m \u001b[38;5;28mprint\u001b[39m(\u001b[38;5;124mf\u001b[39m\u001b[38;5;124m\"\u001b[39m\u001b[38;5;124mMean: \u001b[39m\u001b[38;5;132;01m{\u001b[39;00mmean\u001b[38;5;132;01m:\u001b[39;00m\u001b[38;5;124m.2f\u001b[39m\u001b[38;5;132;01m}\u001b[39;00m\u001b[38;5;124m\"\u001b[39m)\n",
      "File \u001b[0;32m/opt/anaconda3/envs/integrated/lib/python3.9/site-packages/numpy/_core/fromnumeric.py:3042\u001b[0m, in \u001b[0;36mmin\u001b[0;34m(a, axis, out, keepdims, initial, where)\u001b[0m\n\u001b[1;32m   2925\u001b[0m \u001b[38;5;129m@array_function_dispatch\u001b[39m(_min_dispatcher)\n\u001b[1;32m   2926\u001b[0m \u001b[38;5;28;01mdef\u001b[39;00m\u001b[38;5;250m \u001b[39m\u001b[38;5;21mmin\u001b[39m(a, axis\u001b[38;5;241m=\u001b[39m\u001b[38;5;28;01mNone\u001b[39;00m, out\u001b[38;5;241m=\u001b[39m\u001b[38;5;28;01mNone\u001b[39;00m, keepdims\u001b[38;5;241m=\u001b[39mnp\u001b[38;5;241m.\u001b[39m_NoValue, initial\u001b[38;5;241m=\u001b[39mnp\u001b[38;5;241m.\u001b[39m_NoValue,\n\u001b[1;32m   2927\u001b[0m         where\u001b[38;5;241m=\u001b[39mnp\u001b[38;5;241m.\u001b[39m_NoValue):\n\u001b[1;32m   2928\u001b[0m \u001b[38;5;250m    \u001b[39m\u001b[38;5;124;03m\"\"\"\u001b[39;00m\n\u001b[1;32m   2929\u001b[0m \u001b[38;5;124;03m    Return the minimum of an array or minimum along an axis.\u001b[39;00m\n\u001b[1;32m   2930\u001b[0m \n\u001b[0;32m   (...)\u001b[0m\n\u001b[1;32m   3040\u001b[0m \u001b[38;5;124;03m    6\u001b[39;00m\n\u001b[1;32m   3041\u001b[0m \u001b[38;5;124;03m    \"\"\"\u001b[39;00m\n\u001b[0;32m-> 3042\u001b[0m     \u001b[38;5;28;01mreturn\u001b[39;00m \u001b[43m_wrapreduction\u001b[49m\u001b[43m(\u001b[49m\u001b[43ma\u001b[49m\u001b[43m,\u001b[49m\u001b[43m \u001b[49m\u001b[43mnp\u001b[49m\u001b[38;5;241;43m.\u001b[39;49m\u001b[43mminimum\u001b[49m\u001b[43m,\u001b[49m\u001b[43m \u001b[49m\u001b[38;5;124;43m'\u001b[39;49m\u001b[38;5;124;43mmin\u001b[39;49m\u001b[38;5;124;43m'\u001b[39;49m\u001b[43m,\u001b[49m\u001b[43m \u001b[49m\u001b[43maxis\u001b[49m\u001b[43m,\u001b[49m\u001b[43m \u001b[49m\u001b[38;5;28;43;01mNone\u001b[39;49;00m\u001b[43m,\u001b[49m\u001b[43m \u001b[49m\u001b[43mout\u001b[49m\u001b[43m,\u001b[49m\n\u001b[1;32m   3043\u001b[0m \u001b[43m                          \u001b[49m\u001b[43mkeepdims\u001b[49m\u001b[38;5;241;43m=\u001b[39;49m\u001b[43mkeepdims\u001b[49m\u001b[43m,\u001b[49m\u001b[43m \u001b[49m\u001b[43minitial\u001b[49m\u001b[38;5;241;43m=\u001b[39;49m\u001b[43minitial\u001b[49m\u001b[43m,\u001b[49m\u001b[43m \u001b[49m\u001b[43mwhere\u001b[49m\u001b[38;5;241;43m=\u001b[39;49m\u001b[43mwhere\u001b[49m\u001b[43m)\u001b[49m\n",
      "File \u001b[0;32m/opt/anaconda3/envs/integrated/lib/python3.9/site-packages/numpy/_core/fromnumeric.py:86\u001b[0m, in \u001b[0;36m_wrapreduction\u001b[0;34m(obj, ufunc, method, axis, dtype, out, **kwargs)\u001b[0m\n\u001b[1;32m     83\u001b[0m         \u001b[38;5;28;01melse\u001b[39;00m:\n\u001b[1;32m     84\u001b[0m             \u001b[38;5;28;01mreturn\u001b[39;00m reduction(axis\u001b[38;5;241m=\u001b[39maxis, out\u001b[38;5;241m=\u001b[39mout, \u001b[38;5;241m*\u001b[39m\u001b[38;5;241m*\u001b[39mpasskwargs)\n\u001b[0;32m---> 86\u001b[0m \u001b[38;5;28;01mreturn\u001b[39;00m \u001b[43mufunc\u001b[49m\u001b[38;5;241;43m.\u001b[39;49m\u001b[43mreduce\u001b[49m\u001b[43m(\u001b[49m\u001b[43mobj\u001b[49m\u001b[43m,\u001b[49m\u001b[43m \u001b[49m\u001b[43maxis\u001b[49m\u001b[43m,\u001b[49m\u001b[43m \u001b[49m\u001b[43mdtype\u001b[49m\u001b[43m,\u001b[49m\u001b[43m \u001b[49m\u001b[43mout\u001b[49m\u001b[43m,\u001b[49m\u001b[43m \u001b[49m\u001b[38;5;241;43m*\u001b[39;49m\u001b[38;5;241;43m*\u001b[39;49m\u001b[43mpasskwargs\u001b[49m\u001b[43m)\u001b[49m\n",
      "\u001b[0;31mValueError\u001b[0m: zero-size array to reduction operation minimum which has no identity"
     ]
    }
   ],
   "source": [
    "from data.data_processor import DataProcessor\n",
    "from tqdm import tqdm\n",
    "# 定义要分析的分子名称列表\n",
    "molecule_names = ['finalDD2', 'finalLDAIC1', 'finalTAG', 'finalTAIC']\n",
    "\n",
    "# 设置迭代次数\n",
    "iterations = 1\n",
    "\n",
    "# 使用DataProcessor创建IP属性的数据框\n",
    "print(\"正在计算IP值...\")\n",
    "ip_df = DataProcessor.create_property_dataframe(molecule_names, iterations, 'IP')\n",
    "\n",
    "# 清理数据中的异常值\n",
    "print(\"\\n清理数据中的异常值...\")\n",
    "clean_ip_df = DataProcessor.clean_data(ip_df)\n",
    "\n",
    "# 转换为numpy数组并保存结果\n",
    "ip_array = clean_ip_df.to_numpy()\n",
    "print(\"\\nIP计算结果（单位：eV）:\")\n",
    "print(\"分子顺序:\", molecule_names)\n",
    "print(\"IP值:\\n\", ip_array)\n",
    "\n",
    "# 计算每个分子的统计值并生成可视化\n",
    "print(\"\\n各分子的IP统计分析:\")\n",
    "for i, molecule in enumerate(molecule_names):\n",
    "    values = ip_array[:, i]\n",
    "    median, mean = DataProcessor.analyze_property(values.tolist(), molecule, 'IP')"
   ]
  },
  {
   "cell_type": "code",
   "execution_count": null,
   "metadata": {},
   "outputs": [],
   "source": []
  }
 ],
 "metadata": {
  "kernelspec": {
   "display_name": "integrated",
   "language": "python",
   "name": "python3"
  },
  "language_info": {
   "codemirror_mode": {
    "name": "ipython",
    "version": 3
   },
   "file_extension": ".py",
   "mimetype": "text/x-python",
   "name": "python",
   "nbconvert_exporter": "python",
   "pygments_lexer": "ipython3",
   "version": "3.9.21"
  }
 },
 "nbformat": 4,
 "nbformat_minor": 2
}
