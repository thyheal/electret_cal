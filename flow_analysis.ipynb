{
 "cells": [
  {
   "cell_type": "code",
   "execution_count": 1,
   "metadata": {},
   "outputs": [],
   "source": [
    "import utils\n",
    "import gaussian_cal\n",
    "import pandas as pd\n",
    "import subprocess\n",
    "import os\n",
    "import time\n",
    "from rdkit.Chem import PandasTools\n",
    "import pandas as pd\n",
    "from tqdm import tqdm\n",
    "import seaborn as sns\n",
    "import numpy as np\n",
    "import matplotlib.pyplot as plt\n",
    "import scipy.stats as stats\n",
    "from rdkit import Chem\n",
    "from rdkit.Chem import AllChem"
   ]
  },
  {
   "cell_type": "code",
   "execution_count": 3,
   "metadata": {},
   "outputs": [],
   "source": [
    "method = 'CAM-B3LYP'\n",
    "basis = '6-31G(d,p)'\n",
    "PCM = 'True'\n",
    "EPS = 2.05\n",
    "iteration = 1"
   ]
  },
  {
   "cell_type": "code",
   "execution_count": 4,
   "metadata": {},
   "outputs": [],
   "source": [
    "import pandas as pd\n",
    "df = pd.read_csv('Pubchem_FFKM.csv')\n",
    "df\n",
    "name_list = list(df['Name'])\n",
    "smiles_list = list(df['SMILES'])\n"
   ]
  },
  {
   "cell_type": "code",
   "execution_count": 5,
   "metadata": {},
   "outputs": [],
   "source": [
    "def data_to_csv(prop,prop_calculation):\n",
    "    names = locals()\n",
    "    names[prop],names[f'{prop}_name'] = [],[]\n",
    "    for _ in tqdm(name_list):\n",
    "        for i in range (200):\n",
    "            if os.path.exists(f\"{_}{i}\"):\n",
    "                names[prop].append(float(\"{:.3f}\".format((prop_calculation((f\"{_}{i}\"))))))\n",
    "                names[f'{prop}_name'].append(f\"{_}{i}\")\n",
    "\n",
    "    column_name = [f'Name_{prop}(eV)', f'{method}_{basis}_PCM' if PCM else f'{method}_{basis}_Gas']\n",
    "    table = pd.DataFrame({column_name[0]: names[f'{prop}_name'], column_name[1]: names[prop]})\n",
    "    table.to_csv(f'{method}_{basis}_PCM_{prop}' if PCM else f'{method}_{basis}_Gas_{prop}', index=False)\n",
    "    df = table.drop([f'Name_{prop}(eV)'], axis=1)\n",
    "    reshaped_data = df[ f'{method}_{basis}_PCM' if PCM else f'{method}_{basis}_Gas'].values.reshape(len(name_list), iteration).T\n",
    "    new_df = pd.DataFrame(reshaped_data, columns=[f'{name_list[i]}' for i in range(len(name_list))])\n",
    "    new_df.to_csv(f'{method}_{basis}_PCM_{prop}.csv' if PCM else f'{method}_{basis}_Gas_{prop}.csv', index=False)\n",
    "    return new_df\n",
    "def data_wash(df):\n",
    "    df.replace()\n",
    "    df.replace(0, np.nan, inplace=True)\n",
    "    mean_values = df.mean()\n",
    "    df.fillna(mean_values, inplace=True)\n",
    "    return df"
   ]
  },
  {
   "cell_type": "code",
   "execution_count": null,
   "metadata": {},
   "outputs": [],
   "source": [
    "df_IP = data_to_csv('IP',utils.IP_calculation)\n"
   ]
  },
  {
   "cell_type": "code",
   "execution_count": null,
   "metadata": {},
   "outputs": [],
   "source": []
  }
 ],
 "metadata": {
  "kernelspec": {
   "display_name": "Python 3",
   "language": "python",
   "name": "python3"
  },
  "language_info": {
   "codemirror_mode": {
    "name": "ipython",
    "version": 3
   },
   "file_extension": ".py",
   "mimetype": "text/x-python",
   "name": "python",
   "nbconvert_exporter": "python",
   "pygments_lexer": "ipython3",
   "version": "3.9.16"
  }
 },
 "nbformat": 4,
 "nbformat_minor": 2
}
